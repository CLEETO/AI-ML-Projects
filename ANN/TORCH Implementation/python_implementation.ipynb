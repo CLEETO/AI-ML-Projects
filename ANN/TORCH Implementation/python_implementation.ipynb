{
 "cells": [
  {
   "cell_type": "code",
   "execution_count": 20,
   "metadata": {},
   "outputs": [],
   "source": [
    "import numpy as np\n",
    "import torch\n",
    "import torch.nn as nn\n",
    "import torch.optim as optim\n",
    "import polars as pl\n"
   ]
  },
  {
   "cell_type": "code",
   "execution_count": 21,
   "metadata": {},
   "outputs": [],
   "source": [
    "dataset = pl.read_csv(\"dataset.csv\")"
   ]
  },
  {
   "cell_type": "code",
   "execution_count": 22,
   "metadata": {},
   "outputs": [
    {
     "data": {
      "text/html": [
       "<div><style>\n",
       ".dataframe > thead > tr,\n",
       ".dataframe > tbody > tr {\n",
       "  text-align: right;\n",
       "  white-space: pre-wrap;\n",
       "}\n",
       "</style>\n",
       "<small>shape: (767, 9)</small><table border=\"1\" class=\"dataframe\"><thead><tr><th>6</th><th>148</th><th>72</th><th>35</th><th>0</th><th>33.6</th><th>0.627</th><th>50</th><th>1</th></tr><tr><td>i64</td><td>i64</td><td>i64</td><td>i64</td><td>i64</td><td>f64</td><td>f64</td><td>i64</td><td>i64</td></tr></thead><tbody><tr><td>1</td><td>85</td><td>66</td><td>29</td><td>0</td><td>26.6</td><td>0.351</td><td>31</td><td>0</td></tr><tr><td>8</td><td>183</td><td>64</td><td>0</td><td>0</td><td>23.3</td><td>0.672</td><td>32</td><td>1</td></tr><tr><td>1</td><td>89</td><td>66</td><td>23</td><td>94</td><td>28.1</td><td>0.167</td><td>21</td><td>0</td></tr><tr><td>0</td><td>137</td><td>40</td><td>35</td><td>168</td><td>43.1</td><td>2.288</td><td>33</td><td>1</td></tr><tr><td>5</td><td>116</td><td>74</td><td>0</td><td>0</td><td>25.6</td><td>0.201</td><td>30</td><td>0</td></tr><tr><td>&hellip;</td><td>&hellip;</td><td>&hellip;</td><td>&hellip;</td><td>&hellip;</td><td>&hellip;</td><td>&hellip;</td><td>&hellip;</td><td>&hellip;</td></tr><tr><td>10</td><td>101</td><td>76</td><td>48</td><td>180</td><td>32.9</td><td>0.171</td><td>63</td><td>0</td></tr><tr><td>2</td><td>122</td><td>70</td><td>27</td><td>0</td><td>36.8</td><td>0.34</td><td>27</td><td>0</td></tr><tr><td>5</td><td>121</td><td>72</td><td>23</td><td>112</td><td>26.2</td><td>0.245</td><td>30</td><td>0</td></tr><tr><td>1</td><td>126</td><td>60</td><td>0</td><td>0</td><td>30.1</td><td>0.349</td><td>47</td><td>1</td></tr><tr><td>1</td><td>93</td><td>70</td><td>31</td><td>0</td><td>30.4</td><td>0.315</td><td>23</td><td>0</td></tr></tbody></table></div>"
      ],
      "text/plain": [
       "shape: (767, 9)\n",
       "┌─────┬─────┬─────┬─────┬───┬──────┬───────┬─────┬─────┐\n",
       "│ 6   ┆ 148 ┆ 72  ┆ 35  ┆ … ┆ 33.6 ┆ 0.627 ┆ 50  ┆ 1   │\n",
       "│ --- ┆ --- ┆ --- ┆ --- ┆   ┆ ---  ┆ ---   ┆ --- ┆ --- │\n",
       "│ i64 ┆ i64 ┆ i64 ┆ i64 ┆   ┆ f64  ┆ f64   ┆ i64 ┆ i64 │\n",
       "╞═════╪═════╪═════╪═════╪═══╪══════╪═══════╪═════╪═════╡\n",
       "│ 1   ┆ 85  ┆ 66  ┆ 29  ┆ … ┆ 26.6 ┆ 0.351 ┆ 31  ┆ 0   │\n",
       "│ 8   ┆ 183 ┆ 64  ┆ 0   ┆ … ┆ 23.3 ┆ 0.672 ┆ 32  ┆ 1   │\n",
       "│ 1   ┆ 89  ┆ 66  ┆ 23  ┆ … ┆ 28.1 ┆ 0.167 ┆ 21  ┆ 0   │\n",
       "│ 0   ┆ 137 ┆ 40  ┆ 35  ┆ … ┆ 43.1 ┆ 2.288 ┆ 33  ┆ 1   │\n",
       "│ 5   ┆ 116 ┆ 74  ┆ 0   ┆ … ┆ 25.6 ┆ 0.201 ┆ 30  ┆ 0   │\n",
       "│ …   ┆ …   ┆ …   ┆ …   ┆ … ┆ …    ┆ …     ┆ …   ┆ …   │\n",
       "│ 10  ┆ 101 ┆ 76  ┆ 48  ┆ … ┆ 32.9 ┆ 0.171 ┆ 63  ┆ 0   │\n",
       "│ 2   ┆ 122 ┆ 70  ┆ 27  ┆ … ┆ 36.8 ┆ 0.34  ┆ 27  ┆ 0   │\n",
       "│ 5   ┆ 121 ┆ 72  ┆ 23  ┆ … ┆ 26.2 ┆ 0.245 ┆ 30  ┆ 0   │\n",
       "│ 1   ┆ 126 ┆ 60  ┆ 0   ┆ … ┆ 30.1 ┆ 0.349 ┆ 47  ┆ 1   │\n",
       "│ 1   ┆ 93  ┆ 70  ┆ 31  ┆ … ┆ 30.4 ┆ 0.315 ┆ 23  ┆ 0   │\n",
       "└─────┴─────┴─────┴─────┴───┴──────┴───────┴─────┴─────┘"
      ]
     },
     "execution_count": 22,
     "metadata": {},
     "output_type": "execute_result"
    }
   ],
   "source": [
    "dataset"
   ]
  },
  {
   "cell_type": "code",
   "execution_count": 23,
   "metadata": {},
   "outputs": [
    {
     "data": {
      "text/html": [
       "<div><style>\n",
       ".dataframe > thead > tr,\n",
       ".dataframe > tbody > tr {\n",
       "  text-align: right;\n",
       "  white-space: pre-wrap;\n",
       "}\n",
       "</style>\n",
       "<small>shape: (1, 9)</small><table border=\"1\" class=\"dataframe\"><thead><tr><th>6</th><th>148</th><th>72</th><th>35</th><th>0</th><th>33.6</th><th>0.627</th><th>50</th><th>1</th></tr><tr><td>u32</td><td>u32</td><td>u32</td><td>u32</td><td>u32</td><td>u32</td><td>u32</td><td>u32</td><td>u32</td></tr></thead><tbody><tr><td>0</td><td>0</td><td>0</td><td>0</td><td>0</td><td>0</td><td>0</td><td>0</td><td>0</td></tr></tbody></table></div>"
      ],
      "text/plain": [
       "shape: (1, 9)\n",
       "┌─────┬─────┬─────┬─────┬───┬──────┬───────┬─────┬─────┐\n",
       "│ 6   ┆ 148 ┆ 72  ┆ 35  ┆ … ┆ 33.6 ┆ 0.627 ┆ 50  ┆ 1   │\n",
       "│ --- ┆ --- ┆ --- ┆ --- ┆   ┆ ---  ┆ ---   ┆ --- ┆ --- │\n",
       "│ u32 ┆ u32 ┆ u32 ┆ u32 ┆   ┆ u32  ┆ u32   ┆ u32 ┆ u32 │\n",
       "╞═════╪═════╪═════╪═════╪═══╪══════╪═══════╪═════╪═════╡\n",
       "│ 0   ┆ 0   ┆ 0   ┆ 0   ┆ … ┆ 0    ┆ 0     ┆ 0   ┆ 0   │\n",
       "└─────┴─────┴─────┴─────┴───┴──────┴───────┴─────┴─────┘"
      ]
     },
     "execution_count": 23,
     "metadata": {},
     "output_type": "execute_result"
    }
   ],
   "source": [
    "dataset.null_count()"
   ]
  },
  {
   "cell_type": "code",
   "execution_count": 24,
   "metadata": {},
   "outputs": [
    {
     "data": {
      "text/html": [
       "<div><style>\n",
       ".dataframe > thead > tr,\n",
       ".dataframe > tbody > tr {\n",
       "  text-align: right;\n",
       "  white-space: pre-wrap;\n",
       "}\n",
       "</style>\n",
       "<small>shape: (767, 9)</small><table border=\"1\" class=\"dataframe\"><thead><tr><th>6</th><th>148</th><th>72</th><th>35</th><th>0</th><th>33.6</th><th>0.627</th><th>50</th><th>1</th></tr><tr><td>i64</td><td>i64</td><td>i64</td><td>i64</td><td>i64</td><td>f64</td><td>f64</td><td>i64</td><td>i64</td></tr></thead><tbody><tr><td>1</td><td>85</td><td>66</td><td>29</td><td>0</td><td>26.6</td><td>0.351</td><td>31</td><td>0</td></tr><tr><td>8</td><td>183</td><td>64</td><td>0</td><td>0</td><td>23.3</td><td>0.672</td><td>32</td><td>1</td></tr><tr><td>1</td><td>89</td><td>66</td><td>23</td><td>94</td><td>28.1</td><td>0.167</td><td>21</td><td>0</td></tr><tr><td>0</td><td>137</td><td>40</td><td>35</td><td>168</td><td>43.1</td><td>2.288</td><td>33</td><td>1</td></tr><tr><td>5</td><td>116</td><td>74</td><td>0</td><td>0</td><td>25.6</td><td>0.201</td><td>30</td><td>0</td></tr><tr><td>&hellip;</td><td>&hellip;</td><td>&hellip;</td><td>&hellip;</td><td>&hellip;</td><td>&hellip;</td><td>&hellip;</td><td>&hellip;</td><td>&hellip;</td></tr><tr><td>10</td><td>101</td><td>76</td><td>48</td><td>180</td><td>32.9</td><td>0.171</td><td>63</td><td>0</td></tr><tr><td>2</td><td>122</td><td>70</td><td>27</td><td>0</td><td>36.8</td><td>0.34</td><td>27</td><td>0</td></tr><tr><td>5</td><td>121</td><td>72</td><td>23</td><td>112</td><td>26.2</td><td>0.245</td><td>30</td><td>0</td></tr><tr><td>1</td><td>126</td><td>60</td><td>0</td><td>0</td><td>30.1</td><td>0.349</td><td>47</td><td>1</td></tr><tr><td>1</td><td>93</td><td>70</td><td>31</td><td>0</td><td>30.4</td><td>0.315</td><td>23</td><td>0</td></tr></tbody></table></div>"
      ],
      "text/plain": [
       "shape: (767, 9)\n",
       "┌─────┬─────┬─────┬─────┬───┬──────┬───────┬─────┬─────┐\n",
       "│ 6   ┆ 148 ┆ 72  ┆ 35  ┆ … ┆ 33.6 ┆ 0.627 ┆ 50  ┆ 1   │\n",
       "│ --- ┆ --- ┆ --- ┆ --- ┆   ┆ ---  ┆ ---   ┆ --- ┆ --- │\n",
       "│ i64 ┆ i64 ┆ i64 ┆ i64 ┆   ┆ f64  ┆ f64   ┆ i64 ┆ i64 │\n",
       "╞═════╪═════╪═════╪═════╪═══╪══════╪═══════╪═════╪═════╡\n",
       "│ 1   ┆ 85  ┆ 66  ┆ 29  ┆ … ┆ 26.6 ┆ 0.351 ┆ 31  ┆ 0   │\n",
       "│ 8   ┆ 183 ┆ 64  ┆ 0   ┆ … ┆ 23.3 ┆ 0.672 ┆ 32  ┆ 1   │\n",
       "│ 1   ┆ 89  ┆ 66  ┆ 23  ┆ … ┆ 28.1 ┆ 0.167 ┆ 21  ┆ 0   │\n",
       "│ 0   ┆ 137 ┆ 40  ┆ 35  ┆ … ┆ 43.1 ┆ 2.288 ┆ 33  ┆ 1   │\n",
       "│ 5   ┆ 116 ┆ 74  ┆ 0   ┆ … ┆ 25.6 ┆ 0.201 ┆ 30  ┆ 0   │\n",
       "│ …   ┆ …   ┆ …   ┆ …   ┆ … ┆ …    ┆ …     ┆ …   ┆ …   │\n",
       "│ 10  ┆ 101 ┆ 76  ┆ 48  ┆ … ┆ 32.9 ┆ 0.171 ┆ 63  ┆ 0   │\n",
       "│ 2   ┆ 122 ┆ 70  ┆ 27  ┆ … ┆ 36.8 ┆ 0.34  ┆ 27  ┆ 0   │\n",
       "│ 5   ┆ 121 ┆ 72  ┆ 23  ┆ … ┆ 26.2 ┆ 0.245 ┆ 30  ┆ 0   │\n",
       "│ 1   ┆ 126 ┆ 60  ┆ 0   ┆ … ┆ 30.1 ┆ 0.349 ┆ 47  ┆ 1   │\n",
       "│ 1   ┆ 93  ┆ 70  ┆ 31  ┆ … ┆ 30.4 ┆ 0.315 ┆ 23  ┆ 0   │\n",
       "└─────┴─────┴─────┴─────┴───┴──────┴───────┴─────┴─────┘"
      ]
     },
     "execution_count": 24,
     "metadata": {},
     "output_type": "execute_result"
    }
   ],
   "source": [
    "dataset"
   ]
  },
  {
   "cell_type": "code",
   "execution_count": 25,
   "metadata": {},
   "outputs": [],
   "source": [
    "from sklearn.preprocessing import RobustScaler\n",
    "scaler=RobustScaler()\n",
    "x=dataset[:,:8]\n",
    "y=dataset[:,8]\n",
    "x=scaler.fit_transform(x)"
   ]
  },
  {
   "cell_type": "code",
   "execution_count": 26,
   "metadata": {},
   "outputs": [],
   "source": [
    "from sklearn.model_selection import train_test_split\n",
    "x_train, x_test, y_train, y_test = train_test_split(x, y, test_size=0.2, random_state=42)"
   ]
  },
  {
   "cell_type": "code",
   "execution_count": 27,
   "metadata": {},
   "outputs": [],
   "source": [
    "\n",
    "x_train=torch.tensor(x_train,dtype=torch.float32)\n",
    "y_train=torch.tensor(y_train,dtype=torch.float32).reshape(-1,1)\n",
    "x_test=torch.tensor(x_test,dtype=torch.float32)\n",
    "y_test=torch.tensor(y_test,dtype=torch.float32).reshape(-1,1)\n"
   ]
  },
  {
   "cell_type": "code",
   "execution_count": 28,
   "metadata": {},
   "outputs": [
    {
     "data": {
      "text/plain": [
       "tensor([[ 1.0000,  0.3902,  0.0000,  ...,  0.0968, -0.2647,  0.5882],\n",
       "        [ 0.8000,  0.1707, -0.1111,  ..., -0.6989, -0.5505,  0.4706],\n",
       "        [ 0.0000, -0.0244, -4.0000,  ..., -0.9140, -0.4823, -0.3529],\n",
       "        ...,\n",
       "        [-0.2000, -0.2195, -0.5556,  ..., -0.7312, -0.6370, -0.4706],\n",
       "        [ 1.8000,  0.5610,  0.7222,  ...,  0.5806, -0.3329,  0.7059],\n",
       "        [-0.4000, -0.8780,  0.0000,  ..., -0.5806, -0.2307, -0.2941]])"
      ]
     },
     "execution_count": 28,
     "metadata": {},
     "output_type": "execute_result"
    }
   ],
   "source": [
    "x_train"
   ]
  },
  {
   "cell_type": "code",
   "execution_count": 29,
   "metadata": {},
   "outputs": [],
   "source": [
    "x_train=x_train+torch.normal(0.0,0.1,x_train.size())"
   ]
  },
  {
   "cell_type": "code",
   "execution_count": 30,
   "metadata": {},
   "outputs": [
    {
     "data": {
      "text/plain": [
       "<torch._C.Generator at 0x264172357d0>"
      ]
     },
     "execution_count": 30,
     "metadata": {},
     "output_type": "execute_result"
    }
   ],
   "source": [
    "torch.manual_seed(42)"
   ]
  },
  {
   "cell_type": "code",
   "execution_count": 31,
   "metadata": {},
   "outputs": [],
   "source": [
    "from torch.utils.data import DataLoader,TensorDataset\n",
    "batch_size=16\n",
    "dataloader=DataLoader(TensorDataset(x_train, y_train),batch_size=batch_size,shuffle=True)"
   ]
  },
  {
   "cell_type": "code",
   "execution_count": 33,
   "metadata": {},
   "outputs": [
    {
     "name": "stdout",
     "output_type": "stream",
     "text": [
      "Epoch  0 loss:  0.7067171289370611\n",
      "Epoch  1 loss:  0.6896246106196673\n",
      "Epoch  2 loss:  0.6679704372699444\n",
      "Epoch  3 loss:  0.6278605201305487\n",
      "Epoch  4 loss:  0.5724346446685302\n",
      "Epoch  5 loss:  0.5329350019112612\n",
      "Epoch  6 loss:  0.5116932988166809\n",
      "Epoch  7 loss:  0.4991119419917082\n",
      "Epoch  8 loss:  0.49509416940884715\n",
      "Epoch  9 loss:  0.48410302324172777\n",
      "Epoch  10 loss:  0.4810213851623046\n",
      "Epoch  11 loss:  0.4772946677910976\n",
      "Epoch  12 loss:  0.4772344308021741\n",
      "Epoch  13 loss:  0.4725917818454596\n",
      "Epoch  14 loss:  0.4673473284794734\n",
      "Epoch  15 loss:  0.4716140574369675\n",
      "Epoch  16 loss:  0.47019720230347073\n",
      "Epoch  17 loss:  0.46594980359077454\n",
      "Epoch  18 loss:  0.46758092519564504\n",
      "Epoch  19 loss:  0.4611027160516152\n",
      "Epoch  20 loss:  0.45405178306958616\n",
      "Epoch  21 loss:  0.45483364164829254\n",
      "Epoch  22 loss:  0.45639551870333844\n",
      "Epoch  23 loss:  0.4519049765971991\n",
      "Epoch  24 loss:  0.4522260064497972\n",
      "Epoch  25 loss:  0.4544872970153124\n",
      "Epoch  26 loss:  0.452156133376635\n",
      "Epoch  27 loss:  0.4480617092205928\n",
      "Epoch  28 loss:  0.46132103411050945\n",
      "Epoch  29 loss:  0.4471559379345331\n",
      "Epoch  30 loss:  0.44872841697472793\n",
      "Epoch  31 loss:  0.44625719770407063\n",
      "Epoch  32 loss:  0.442165501224689\n",
      "Epoch  33 loss:  0.4499868074288735\n",
      "Epoch  34 loss:  0.44762972455758315\n",
      "Epoch  35 loss:  0.4428235426163062\n",
      "Epoch  36 loss:  0.4446793190943889\n",
      "Epoch  37 loss:  0.44161334060705626\n",
      "Epoch  38 loss:  0.45192194061401564\n",
      "Epoch  39 loss:  0.44329780569443333\n",
      "Epoch  40 loss:  0.43735307455062866\n",
      "Epoch  41 loss:  0.43359889281101716\n",
      "Epoch  42 loss:  0.4382030108036139\n",
      "Epoch  43 loss:  0.432864173864707\n",
      "Epoch  44 loss:  0.43610119131895214\n",
      "Epoch  45 loss:  0.43410240572232467\n",
      "Epoch  46 loss:  0.430951180939491\n",
      "Epoch  47 loss:  0.4365876588301781\n",
      "Epoch  48 loss:  0.4303030727001337\n",
      "Epoch  49 loss:  0.43696990876625746\n",
      "Epoch  50 loss:  0.4252499682016862\n",
      "Epoch  51 loss:  0.42723425191182357\n",
      "Epoch  52 loss:  0.4273544484988237\n",
      "Epoch  53 loss:  0.43099139898251265\n",
      "Epoch  54 loss:  0.4335282788826869\n",
      "Epoch  55 loss:  0.4363358689424319\n",
      "Epoch  56 loss:  0.4226155548523634\n",
      "Epoch  57 loss:  0.42338227461545896\n",
      "Epoch  58 loss:  0.42015920923306393\n",
      "Epoch  59 loss:  0.41987781646924144\n",
      "Epoch  60 loss:  0.41689515572327834\n",
      "Epoch  61 loss:  0.42187056785974747\n",
      "Epoch  62 loss:  0.41192776346817994\n",
      "Epoch  63 loss:  0.41174866870427745\n",
      "Epoch  64 loss:  0.4141968152461908\n",
      "Epoch  65 loss:  0.4112846048978659\n",
      "Epoch  66 loss:  0.41534722118805617\n",
      "Epoch  67 loss:  0.41072586942941713\n",
      "Epoch  68 loss:  0.4107399502625832\n",
      "Epoch  69 loss:  0.4093034840547122\n",
      "Epoch  70 loss:  0.4090545219488633\n",
      "Epoch  71 loss:  0.40437228633807254\n",
      "Epoch  72 loss:  0.4031422829780823\n",
      "Epoch  73 loss:  0.4073851628181262\n",
      "Epoch  74 loss:  0.402697632710139\n",
      "Epoch  75 loss:  0.3968397310146919\n",
      "Epoch  76 loss:  0.4010475577834325\n",
      "Epoch  77 loss:  0.3980755347471971\n",
      "Epoch  78 loss:  0.4003649327235344\n",
      "Epoch  79 loss:  0.397199701040219\n",
      "Epoch  80 loss:  0.3962127719170008\n",
      "Epoch  81 loss:  0.3965738950631557\n",
      "Epoch  82 loss:  0.3926883611159447\n",
      "Epoch  83 loss:  0.4012459925351999\n",
      "Epoch  84 loss:  0.39271283570008403\n",
      "Epoch  85 loss:  0.3903663937862103\n",
      "Epoch  86 loss:  0.3890384748960153\n",
      "Epoch  87 loss:  0.3844606339549407\n",
      "Epoch  88 loss:  0.38341861913123954\n",
      "Epoch  89 loss:  0.3838825424512227\n",
      "Epoch  90 loss:  0.3934010821275222\n",
      "Epoch  91 loss:  0.3835422981243867\n",
      "Epoch  92 loss:  0.3831494186933224\n",
      "Epoch  93 loss:  0.3853789025392288\n",
      "Epoch  94 loss:  0.3896320993319536\n",
      "Epoch  95 loss:  0.38182363620935345\n",
      "Epoch  96 loss:  0.38324935963520634\n",
      "Epoch  97 loss:  0.3824247060677944\n",
      "Epoch  98 loss:  0.38341208299001056\n",
      "Epoch  99 loss:  0.3757430639786598\n"
     ]
    },
    {
     "data": {
      "text/plain": [
       "Sequential(\n",
       "  (0): Linear(in_features=8, out_features=16, bias=True)\n",
       "  (1): ReLU()\n",
       "  (2): Linear(in_features=16, out_features=12, bias=True)\n",
       "  (3): ReLU()\n",
       "  (4): Linear(in_features=12, out_features=8, bias=True)\n",
       "  (5): ReLU()\n",
       "  (6): Linear(in_features=8, out_features=4, bias=True)\n",
       "  (7): ReLU()\n",
       "  (8): Linear(in_features=4, out_features=1, bias=True)\n",
       "  (9): Sigmoid()\n",
       ")"
      ]
     },
     "execution_count": 33,
     "metadata": {},
     "output_type": "execute_result"
    }
   ],
   "source": [
    "model=nn.Sequential(nn.Linear(8,16),nn.ReLU(),nn.Linear(16,12),nn.ReLU(),nn.Linear(12,8),nn.ReLU(),nn.Linear(8,4),nn.ReLU(),nn.Linear(4,1),nn.Sigmoid())\n",
    "#model=nn.Sequential(nn.Linear(8,35),nn.ReLU(),nn.Linear(35,1),nn.Sigmoid())\n",
    "from  torch.optim.lr_scheduler import ExponentialLR\n",
    "#lr=0.0003866102198118817\n",
    "lr=0.001\n",
    "loss_fn = nn.BCELoss()  # binary cross entropy\n",
    "optimizer = optim.Adam(model.parameters(), lr=lr)\n",
    "#scheduler = ExponentialLR(optimizer, gamma=0.9)\n",
    "\n",
    "epochs=100\n",
    "loss_total=[]\n",
    "for epoch in range(epochs):\n",
    "    epoch_loss=0\n",
    "    batch_count=0\n",
    "    for x_train_batch,y_train_batch in dataloader:\n",
    "        y_pred=model(x_train_batch)\n",
    "        loss=loss_fn(y_pred,y_train_batch)\n",
    "        optimizer.zero_grad()\n",
    "        loss.backward()\n",
    "        optimizer.step()\n",
    "        epoch_loss+=loss.item()\n",
    "        batch_count+=1\n",
    "    #graph_title=f'Loss/epoch for learning rate {lr} epochs {epochs} and batchsize {batch_size}'\n",
    "    #writer.add_scalar('Loss/epoch for ',epoch_loss/batch_count,epoch)\n",
    "    print(\"Epoch \",epoch,\"loss: \",epoch_loss/batch_count)\n",
    "    loss_total.append(epoch_loss/batch_count)\n",
    "    \n",
    "model.eval()\n"
   ]
  },
  {
   "cell_type": "code",
   "execution_count": 34,
   "metadata": {},
   "outputs": [
    {
     "data": {
      "image/png": "[encoded data removed]",
      "text/plain": [
       "<Figure size 800x600 with 1 Axes>"
      ]
     },
     "metadata": {},
     "output_type": "display_data"
    }
   ],
   "source": [
    "import matplotlib.pyplot as plt\n",
    "plt.figure(figsize=(8, 6))\n",
    "plt.plot(range(1, epochs + 1), loss_total, label='Training Loss', color='blue')\n",
    "plt.xlabel('Epochs')\n",
    "plt.ylabel('Loss')\n",
    "plt.title('Loss vs Epochs')\n",
    "plt.grid(True)\n",
    "plt.legend()\n",
    "plt.show()"
   ]
  },
  {
   "cell_type": "code",
   "execution_count": 35,
   "metadata": {},
   "outputs": [
    {
     "name": "stdout",
     "output_type": "stream",
     "text": [
      "train accuracy:  tensor(0.8320)\n",
      "Test accuracy: tensor(0.7792)\n"
     ]
    }
   ],
   "source": [
    "with torch.no_grad():\n",
    "    y_pred=model(x_train)\n",
    "    accuracy_train=(y_pred.round()==y_train).float().mean()\n",
    "    print(\"train accuracy: \",accuracy_train)\n",
    "    y_test_pred=model(x_test)\n",
    "    accuracy_test=(y_test_pred.round()==y_test).float().mean()\n",
    "    print(\"Test accuracy:\",accuracy_test)\n",
    "        "
   ]
  },
  {
   "cell_type": "code",
   "execution_count": null,
   "metadata": {},
   "outputs": [],
   "source": []
  }
 ],
 "metadata": {
  "kernelspec": {
   "display_name": "Python 3",
   "language": "python",
   "name": "python3"
  },
  "language_info": {
   "codemirror_mode": {
    "name": "ipython",
    "version": 3
   },
   "file_extension": ".py",
   "mimetype": "text/x-python",
   "name": "python",
   "nbconvert_exporter": "python",
   "pygments_lexer": "ipython3",
   "version": "3.12.5"
  }
 },
 "nbformat": 4,
 "nbformat_minor": 2
}
