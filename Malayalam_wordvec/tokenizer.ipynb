{
 "cells": [
  {
   "cell_type": "markdown",
   "metadata": {},
   "source": [
    "Loading sentences"
   ]
  },
  {
   "cell_type": "code",
   "execution_count": 38,
   "metadata": {},
   "outputs": [],
   "source": [
    "import re\n",
    "sentences=[]\n",
    "with open('malayalam_senteces2.txt','r',encoding=\"utf-8\") as f:\n",
    "    for sentence in f:\n",
    "        sentences.append(sentence)"
   ]
  },
  {
   "cell_type": "code",
   "execution_count": 37,
   "metadata": {},
   "outputs": [],
   "source": [
    "with open('malayalam_senteces2.txt','w',encoding=\"utf-8\") as f:\n",
    "    for sentence in sentences:\n",
    "        f.write(sentence)"
   ]
  },
  {
   "cell_type": "code",
   "execution_count": 30,
   "metadata": {},
   "outputs": [],
   "source": [
    "import re\n",
    "sentences=[]\n",
    "with open('malayalam_senteces2.txt','r',encoding=\"utf-8\") as f:\n",
    "    for sentence in f:\n",
    "            sentences.append(sentence)"
   ]
  },
  {
   "cell_type": "code",
   "execution_count": 39,
   "metadata": {},
   "outputs": [
    {
     "name": "stdout",
     "output_type": "stream",
     "text": [
      "['ഭഗവാന് ജന്മം എടുക്കാത്തതാകുന്നു\\n', 'ജന്മം എടുക്കാത്ത ഏതൊരുവനാണൊ ജന്മം എടുത്തത് ജനിക്കാത്ത ജന്മം എടുക്കാത്ത അവതരിക്കാത്ത ജന്മം എടുക്കാത്ത ആഗതമാകാത്ത ജന്മം എടുക്കാത്ത ജന്മം എടുക്കാത്ത ദൈവം \\n', 'പൂച്ച വട്ടം ചാടുന്നത് അശുഭമായ കാര്യമായി കണക്കാക്കുന്നു\\n', 'അശുഭമായ ശുഭം അല്ലാത്തത് അശുഭ അശുഭമായ അശുഭമായ ജോലി \\n', 'പ്രവേശിക്കാത്ത അതിഥികളെ വേഗം ഉള്ളില് പ്രവേശിപ്പിക്കൂ \\n', 'പ്രവേശിക്കാത്ത ഒന്നിലും ഏര്പ്പെടാത്ത കടന്നുവരാത്ത പ്രവേശിക്കാത്ത പ്രവേശിക്കാത്ത വ്യക്തി  പ്രവേശിക്കാത്ത വസ്തു \\n', 'കാശി ഹിന്ദുക്കളെ സംബന്ധിച്ചിടത്തോളം പുണ്യസ്ഥലം ആകുന്നു\\n', 'പുണ്യസ്ഥലം പവിത്രമായി കണക്കാക്കുന്ന സ്ഥലം തീര്ത്ഥസ്ഥലം പുണ്യസ്ഥലം പരിശുദ്ധസ്ഥലം പുണ്യസ്ഥലം മന്ദിരം പുണ്യസ്ഥലം പൂജാമുറി പുണ്യസ്ഥലം ധര്മ്മസ്ഥലം പുണ്യസ്ഥലം തീര്ത്ഥാടന കേന്ദ്രം പുണ്യസ്ഥലം പീഠം പുണ്യസ്ഥലം സ്തൂപം പുണ്യസ്ഥലം കൈലാസം പുണ്യസ്ഥലം തുളസിതറ പുണ്യസ്ഥലം കൈമാറ്റ വ്യാപാരം  പുണ്യസ്ഥലം\\n', 'അവന്  എല്ലാ തിങ്കളാഴ്ചയും ശിവക്ഷേത്രത്തില്  പോകും\\n', 'ശിവ ക്ഷേത്രം ശിവ പ്രതിഷ്ഠ നടത്തി ശിവ പൂജ ചെയ്യുന്ന ആലയം ശിവലിംഗം ശിവ ക്ഷേത്രം ശിവ വിഗ്രഹം ശിവ ക്ഷേത്രം\\n']\n"
     ]
    }
   ],
   "source": [
    "print(sentences[:10])"
   ]
  },
  {
   "cell_type": "markdown",
   "metadata": {},
   "source": [
    "Iterator"
   ]
  },
  {
   "cell_type": "code",
   "execution_count": 10,
   "metadata": {},
   "outputs": [],
   "source": [
    "def batch_iterator():\n",
    "    batch_size=1000\n",
    "    for i in range(0,len(sentences),batch_size):\n",
    "        yield sentences[i:i+batch_size]"
   ]
  },
  {
   "cell_type": "markdown",
   "metadata": {},
   "source": [
    "Creating a BPE Tokenizer"
   ]
  },
  {
   "cell_type": "code",
   "execution_count": 88,
   "metadata": {},
   "outputs": [
    {
     "name": "stderr",
     "output_type": "stream",
     "text": [
      "c:\\Users\\Administrator\\AppData\\Local\\Programs\\Python\\Python312\\Lib\\site-packages\\transformers\\tokenization_utils_base.py:1601: FutureWarning: `clean_up_tokenization_spaces` was not set. It will be set to `True` by default. This behavior will be depracted in transformers v4.45, and will be then set to `False` by default. For more details check this issue: https://github.com/huggingface/transformers/issues/31884\n",
      "  warnings.warn(\n"
     ]
    },
    {
     "data": {
      "text/plain": [
       "('bpe_tokenizer_malayalam\\\\tokenizer_config.json',\n",
       " 'bpe_tokenizer_malayalam\\\\special_tokens_map.json',\n",
       " 'bpe_tokenizer_malayalam\\\\vocab.json',\n",
       " 'bpe_tokenizer_malayalam\\\\merges.txt',\n",
       " 'bpe_tokenizer_malayalam\\\\added_tokens.json',\n",
       " 'bpe_tokenizer_malayalam\\\\tokenizer.json')"
      ]
     },
     "execution_count": 88,
     "metadata": {},
     "output_type": "execute_result"
    }
   ],
   "source": [
    "from tokenizers import decoders, models, normalizers, pre_tokenizers, processors, trainers, Tokenizer\n",
    "from transformers import GPT2TokenizerFast\n",
    "tokenizer = Tokenizer(models.BPE())\n",
    "tokenizer.pre_tokenizer = pre_tokenizers.Whitespace()\n",
    "trainer = trainers.BpeTrainer(vocab_size=35000, special_tokens=[\"<|endoftext|>\"],encoding='utf-8')\n",
    "tokenizer.train_from_iterator(batch_iterator(), trainer=trainer)\n",
    "tokenizer.decoder = decoders.BPEDecoder()\n",
    "new_tokenizer = GPT2TokenizerFast(tokenizer_object=tokenizer)\n",
    "new_tokenizer.save_pretrained(\"bpe_tokenizer_malayalam\")"
   ]
  },
  {
   "cell_type": "markdown",
   "metadata": {},
   "source": [
    "Writng sentences BPE tokenized\n"
   ]
  },
  {
   "cell_type": "code",
   "execution_count": 87,
   "metadata": {},
   "outputs": [],
   "source": [
    "with open('malayalam_senteces.txt','w',encoding=\"utf-8\") as f:\n",
    "    for sentence in sentences:\n",
    "        sentence=tokenizer.tokenize(sentence)\n",
    "        f.write(' '.join(sentence)+'\\n')"
   ]
  },
  {
   "cell_type": "markdown",
   "metadata": {},
   "source": [
    "Creating a sentence Piece tokenizer"
   ]
  },
  {
   "cell_type": "code",
   "execution_count": 40,
   "metadata": {},
   "outputs": [],
   "source": [
    "import sentencepiece as spm\n",
    "spm.SentencePieceTrainer.train(input='malayalam_senteces2.txt', model_prefix='malayalam_sent/mala_sp', vocab_size=40000)\n"
   ]
  },
  {
   "cell_type": "code",
   "execution_count": 41,
   "metadata": {},
   "outputs": [
    {
     "name": "stdout",
     "output_type": "stream",
     "text": [
      "['▁', 'നിരീശ്വരവാദികളായ', 'വരാണ്']\n",
      "നിരീശ്വരവാദികളായവരാണ്\n"
     ]
    }
   ],
   "source": [
    "sp = spm.SentencePieceProcessor(model_file='malayalam_sent/mala_sp.model')\n",
    "encoded = sp.encode_as_pieces(\"നിരീശ്വരവാദികളായവരാണ്\")\n",
    "print(encoded)\n",
    "decoded = sp.decode(encoded)\n",
    "print(decoded)"
   ]
  },
  {
   "cell_type": "markdown",
   "metadata": {},
   "source": [
    "writing sentence piece tokenized sentences"
   ]
  },
  {
   "cell_type": "code",
   "execution_count": 42,
   "metadata": {},
   "outputs": [
    {
     "data": {
      "text/plain": [
       "['▁', 'നിരീശ്വരവാദികളായ', 'വരാണ്']"
      ]
     },
     "execution_count": 42,
     "metadata": {},
     "output_type": "execute_result"
    }
   ],
   "source": [
    "sp.EncodeAsPieces('നിരീശ്വരവാദികളായവരാണ് ')"
   ]
  },
  {
   "cell_type": "code",
   "execution_count": 44,
   "metadata": {},
   "outputs": [],
   "source": [
    "with open('malayalam_senteces_sp2.txt','w',encoding=\"utf-8\") as f:\n",
    "    for sentence in sentences:\n",
    "        for word in sentence.split():\n",
    "            encodeds=sp.encode_as_pieces(word)\n",
    "            #print(word)\n",
    "            #print(encodeds)\n",
    "            f.write(' '.join(encodeds)+' ')\n",
    "        f.write('\\n')"
   ]
  }
 ],
 "metadata": {
  "kernelspec": {
   "display_name": "Python 3",
   "language": "python",
   "name": "python3"
  },
  "language_info": {
   "codemirror_mode": {
    "name": "ipython",
    "version": 3
   },
   "file_extension": ".py",
   "mimetype": "text/x-python",
   "name": "python",
   "nbconvert_exporter": "python",
   "pygments_lexer": "ipython3",
   "version": "3.12.5"
  }
 },
 "nbformat": 4,
 "nbformat_minor": 2
}
